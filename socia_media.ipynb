{
 "cells": [
  {
   "cell_type": "code",
   "execution_count": null,
   "id": "37d1c36c",
   "metadata": {},
   "outputs": [],
   "source": [
    "import logging\n",
    "\n",
    "logging.basicConfig(level=logging.INFO, format='%(asctime)s - %(levelname)s - %(message)s')\n",
    "\n",
    "config_params = {\n",
    "    \"posts_file_path\": \"posts.json\",\n",
    "    \"likes_file_path\": \"postLikes.json\",\n",
    "    \"users_file_path\": \"User.json\",\n",
    "    \"comments_file_path\": \"postComments.json\",\n",
    "    \"posts_columns\": ['_id', \"text\", \"dateCreated\", \"likesCount\", \"repostsCount\", \"childCount\", \"sharesCount\", \"viewsCount\", \"commentsCount\", \"isLiked\", \"isReposted\", \"postOwner._id\", \"attachments\", \"isRepost\", \"totalAttachmentCount\", \"postIsCompletelyUploaded\", \"_class\"],\n",
    "    \"users_columns\":[\"_id\", \"createdAt\", \"handle\", \"bio\", \"fixedUsername\", \"profileUrl\", \"followersCount\", \"followingCount\", \"isAccountPrivate\", \"userType\", \"emailIsPhoneNumber\", \"_class\"],\n",
    "    \"likes_columns\": [\"_id\", \"post._id\", \"post.postOwner._id\", \"liker._id\", \"createdAt\", \"_class\"],\n",
    "    \"posts_columns_to_rename\":{\n",
    "        \"_id\": \"postId\",\n",
    "        \"text\": \"postText\",\n",
    "        \"postOwner._id\": \"postOwnerId\",\n",
    "    },\n",
    "    \"users_columns_to_rename\": {\n",
    "        \"_id\": \"userId\",\n",
    "    },\n",
    "    \"likes_columns_to_rename\": {\n",
    "        \"_id\": \"likeId\",\n",
    "        \"post._id\": \"postId\",\n",
    "        \"post.postOwner._id\": \"postOwnerId\",\n",
    "        \"liker._id\": \"likerId\",\n",
    "    },\n",
    "\n",
    "}"
   ]
  },
  {
   "cell_type": "code",
   "execution_count": 8,
   "id": "85f7fd42",
   "metadata": {},
   "outputs": [
    {
     "name": "stderr",
     "output_type": "stream",
     "text": [
      "2025-06-12 18:02:41,664 - INFO - Loading likes data from postLikes.json\n",
      "2025-06-12 18:02:42,178 - INFO - Successfully read JSON file: postLikes.json\n",
      "2025-06-12 18:02:42,896 - INFO - DataFrame created with 10705 records.\n",
      "2025-06-12 18:02:42,908 - INFO - Selecting columns: ['_id', 'post._id', 'post.postOwner._id', 'liker._id', 'createdAt', '_class']\n",
      "2025-06-12 18:02:42,924 - INFO - Renaming columns: {'_id': 'likeId', 'post._id': 'postId', 'post.postOwner._id': 'postOwnerId', 'liker._id': 'likerId'}\n",
      "2025-06-12 18:02:42,926 - INFO - Columns renamed successfully.\n",
      "2025-06-12 18:02:42,927 - INFO - Converting 'createdAtcolumn to datetime format.\n",
      "2025-06-12 18:02:42,951 - INFO - Likes data processing completed successfully.\n"
     ]
    },
    {
     "data": {
      "application/vnd.microsoft.datawrangler.viewer.v0+json": {
       "columns": [
        {
         "name": "index",
         "rawType": "int64",
         "type": "integer"
        },
        {
         "name": "likeId",
         "rawType": "object",
         "type": "string"
        },
        {
         "name": "postId",
         "rawType": "object",
         "type": "string"
        },
        {
         "name": "postOwnerId",
         "rawType": "object",
         "type": "string"
        },
        {
         "name": "likerId",
         "rawType": "object",
         "type": "string"
        },
        {
         "name": "createdAt",
         "rawType": "object",
         "type": "string"
        },
        {
         "name": "_class",
         "rawType": "object",
         "type": "string"
        }
       ],
       "ref": "8f5c4b2e-1523-415e-b2d8-22982e3464da",
       "rows": [
        [
         "0",
         "603c9124eb8333125ffc422b",
         "603c908deb8333125ffc4225",
         "603c8eb7eb8333125ffc4220",
         "603c8f1eeb8333125ffc4222",
         "2021-03-01 07:00:52",
         "chat.lunna.hornbill.model.HbLike"
        ],
        [
         "1",
         "603cb24beb8333125ffc43e4",
         "603c9938eb8333125ffc4248",
         "603c8f1eeb8333125ffc4222",
         "603c8f1eeb8333125ffc4222",
         "2021-03-01 09:22:19",
         "chat.lunna.hornbill.model.HbLike"
        ],
        [
         "2",
         "603f3625eb8333125ffc45a1",
         "603f2118eb8333125ffc454d",
         "603f14b6eb8333125ffc4545",
         "603f14b6eb8333125ffc4545",
         "2021-03-03 07:09:25",
         "chat.lunna.hornbill.model.HbLike"
        ],
        [
         "3",
         "60421e9beb8333125ffc4730",
         "60405f5beb8333125ffc45fd",
         "603f14b6eb8333125ffc4545",
         "60421a2eeb8333125ffc4715",
         "2021-03-05 12:05:47",
         "chat.lunna.hornbill.model.HbLike"
        ],
        [
         "4",
         "604223feeb8333125ffc4758",
         "60420e55eb8333125ffc46b9",
         "604209a3eb8333125ffc46b1",
         "60420c93eb8333125ffc46b3",
         "2021-03-05 12:28:46",
         "chat.lunna.hornbill.model.HbLike"
        ]
       ],
       "shape": {
        "columns": 6,
        "rows": 5
       }
      },
      "text/html": [
       "<div>\n",
       "<style scoped>\n",
       "    .dataframe tbody tr th:only-of-type {\n",
       "        vertical-align: middle;\n",
       "    }\n",
       "\n",
       "    .dataframe tbody tr th {\n",
       "        vertical-align: top;\n",
       "    }\n",
       "\n",
       "    .dataframe thead th {\n",
       "        text-align: right;\n",
       "    }\n",
       "</style>\n",
       "<table border=\"1\" class=\"dataframe\">\n",
       "  <thead>\n",
       "    <tr style=\"text-align: right;\">\n",
       "      <th></th>\n",
       "      <th>likeId</th>\n",
       "      <th>postId</th>\n",
       "      <th>postOwnerId</th>\n",
       "      <th>likerId</th>\n",
       "      <th>createdAt</th>\n",
       "      <th>_class</th>\n",
       "    </tr>\n",
       "  </thead>\n",
       "  <tbody>\n",
       "    <tr>\n",
       "      <th>0</th>\n",
       "      <td>603c9124eb8333125ffc422b</td>\n",
       "      <td>603c908deb8333125ffc4225</td>\n",
       "      <td>603c8eb7eb8333125ffc4220</td>\n",
       "      <td>603c8f1eeb8333125ffc4222</td>\n",
       "      <td>2021-03-01 07:00:52</td>\n",
       "      <td>chat.lunna.hornbill.model.HbLike</td>\n",
       "    </tr>\n",
       "    <tr>\n",
       "      <th>1</th>\n",
       "      <td>603cb24beb8333125ffc43e4</td>\n",
       "      <td>603c9938eb8333125ffc4248</td>\n",
       "      <td>603c8f1eeb8333125ffc4222</td>\n",
       "      <td>603c8f1eeb8333125ffc4222</td>\n",
       "      <td>2021-03-01 09:22:19</td>\n",
       "      <td>chat.lunna.hornbill.model.HbLike</td>\n",
       "    </tr>\n",
       "    <tr>\n",
       "      <th>2</th>\n",
       "      <td>603f3625eb8333125ffc45a1</td>\n",
       "      <td>603f2118eb8333125ffc454d</td>\n",
       "      <td>603f14b6eb8333125ffc4545</td>\n",
       "      <td>603f14b6eb8333125ffc4545</td>\n",
       "      <td>2021-03-03 07:09:25</td>\n",
       "      <td>chat.lunna.hornbill.model.HbLike</td>\n",
       "    </tr>\n",
       "    <tr>\n",
       "      <th>3</th>\n",
       "      <td>60421e9beb8333125ffc4730</td>\n",
       "      <td>60405f5beb8333125ffc45fd</td>\n",
       "      <td>603f14b6eb8333125ffc4545</td>\n",
       "      <td>60421a2eeb8333125ffc4715</td>\n",
       "      <td>2021-03-05 12:05:47</td>\n",
       "      <td>chat.lunna.hornbill.model.HbLike</td>\n",
       "    </tr>\n",
       "    <tr>\n",
       "      <th>4</th>\n",
       "      <td>604223feeb8333125ffc4758</td>\n",
       "      <td>60420e55eb8333125ffc46b9</td>\n",
       "      <td>604209a3eb8333125ffc46b1</td>\n",
       "      <td>60420c93eb8333125ffc46b3</td>\n",
       "      <td>2021-03-05 12:28:46</td>\n",
       "      <td>chat.lunna.hornbill.model.HbLike</td>\n",
       "    </tr>\n",
       "  </tbody>\n",
       "</table>\n",
       "</div>"
      ],
      "text/plain": [
       "                     likeId                    postId  \\\n",
       "0  603c9124eb8333125ffc422b  603c908deb8333125ffc4225   \n",
       "1  603cb24beb8333125ffc43e4  603c9938eb8333125ffc4248   \n",
       "2  603f3625eb8333125ffc45a1  603f2118eb8333125ffc454d   \n",
       "3  60421e9beb8333125ffc4730  60405f5beb8333125ffc45fd   \n",
       "4  604223feeb8333125ffc4758  60420e55eb8333125ffc46b9   \n",
       "\n",
       "                postOwnerId                   likerId            createdAt  \\\n",
       "0  603c8eb7eb8333125ffc4220  603c8f1eeb8333125ffc4222  2021-03-01 07:00:52   \n",
       "1  603c8f1eeb8333125ffc4222  603c8f1eeb8333125ffc4222  2021-03-01 09:22:19   \n",
       "2  603f14b6eb8333125ffc4545  603f14b6eb8333125ffc4545  2021-03-03 07:09:25   \n",
       "3  603f14b6eb8333125ffc4545  60421a2eeb8333125ffc4715  2021-03-05 12:05:47   \n",
       "4  604209a3eb8333125ffc46b1  60420c93eb8333125ffc46b3  2021-03-05 12:28:46   \n",
       "\n",
       "                             _class  \n",
       "0  chat.lunna.hornbill.model.HbLike  \n",
       "1  chat.lunna.hornbill.model.HbLike  \n",
       "2  chat.lunna.hornbill.model.HbLike  \n",
       "3  chat.lunna.hornbill.model.HbLike  \n",
       "4  chat.lunna.hornbill.model.HbLike  "
      ]
     },
     "execution_count": 8,
     "metadata": {},
     "output_type": "execute_result"
    }
   ],
   "source": [
    "from likes_processor import LikesProcessor\n",
    "\n",
    "like_processor = LikesProcessor(config_params)\n",
    "like_processor.process_likes()\n",
    "likes_df = like_processor.df\n",
    "likes_df.head()"
   ]
  },
  {
   "cell_type": "code",
   "execution_count": null,
   "id": "6cdcb7dd",
   "metadata": {},
   "outputs": [],
   "source": []
  }
 ],
 "metadata": {
  "kernelspec": {
   "display_name": "Python 3 (ipykernel)",
   "language": "python",
   "name": "python3"
  },
  "language_info": {
   "codemirror_mode": {
    "name": "ipython",
    "version": 3
   },
   "file_extension": ".py",
   "mimetype": "text/x-python",
   "name": "python",
   "nbconvert_exporter": "python",
   "pygments_lexer": "ipython3",
   "version": "3.12.7"
  }
 },
 "nbformat": 4,
 "nbformat_minor": 5
}
